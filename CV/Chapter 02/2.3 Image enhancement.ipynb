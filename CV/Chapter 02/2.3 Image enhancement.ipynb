{
 "cells": [
  {
   "cell_type": "markdown",
   "metadata": {},
   "source": [
    "# 2.3 Image enhancement\n",
    "\n",
    "Image enhancement is the process of adjusting a digital image so the resultant one is more suitable for further image analysis (edge detection, feature extraction, segmentation, etc.), in other words, **its goal is to improve the contrast and brightness of the image**.\n",
    "\n",
    "There are three typical operations for enhancing images. We have already explored one of them in notebook *2.1 IP tools*: (linear) Look-Up Tables (LUTs). In this notebook we will play with a variant of LUTs and other two operations:\n",
    "\n",
    "- Non-linear look-up tables (<a href=\"#231\">Section 2.3.1</a>).\n",
    "- Histogram equalization (<a href=\"#232\">Section 2.3.2</a>).\n",
    "- Histogram specification (<a href=\"#233\">Section 2.3.3</a>).\n",
    "\n",
    "Also, some color-space conversions are going to be needed. If you are not familiar with the YCrCb color space, **Appendix 2: Color spaces** contains the information you need to know about it."
   ]
  },
  {
   "cell_type": "markdown",
   "metadata": {},
   "source": [
    "## Problem context - Implementing enhancement techniques for an image editor tool\n",
    "\n",
    "We have all tried an image editor tool, sometimes without even knowing it! For example, modern smartphones already include an application for applying filters to images, cut them, modify their contrast, brightness, color temperature, etc. \n",
    "\n",
    "<img src=\"./images/GIMP-logo.png\" width=\"200\">\n",
    "\n",
    "\n",
    "One example of open source tool is the GNU Image Manipulation Program (GIMP). Quoting some words from its [website](https://www.gimp.org/):  \n",
    "\n",
    "> GIMP is a cross-platform image editor available for GNU/Linux, OS X, Windows and more operating systems. It is free software, you can change its source code and distribute your changes.\n",
    "> Whether you are a graphic designer, photographer, illustrator, or scientist, GIMP provides you with sophisticated tools to get your job done. You can further enhance your productivity with GIMP thanks to many customization options and 3rd party plugins.\n",
    "\n",
    "\n",
    "In this case we were contacted by UMA for implementing two techniques to be included in their own image editor tool! Concretely, we were asked to develop and test two methods that are also part of GIMP: [**gamma correction**](https://docs.gimp.org/2.10/en/gimp-tool-levels.html) and [**equalize**](https://docs.gimp.org/2.10/en/gimp-layer-equalize.html)."
   ]
  },
  {
   "cell_type": "code",
   "execution_count": null,
   "metadata": {},
   "outputs": [],
   "source": [
    "import numpy as np\n",
    "import cv2\n",
    "import matplotlib.pyplot as plt\n",
    "import matplotlib\n",
    "from ipywidgets import interactive, fixed, widgets\n",
    "matplotlib.rcParams['figure.figsize'] = (20.0, 20.0)\n",
    "\n",
    "images_path = './images/'"
   ]
  },
  {
   "cell_type": "markdown",
   "metadata": {},
   "source": [
    "## 2.3.1 Non-linear look-up tables <a id=231></a>\n",
    "\n",
    "**Gamma correction**, or often simply **gamma**, is a nonlinear operation used to encode and decode luminance or tristimulus values in video or still image systems. In other words, it is the result of applying an (already defined) **non-linear LUT** in order to stretch or shrink image intensities.\n",
    "\n",
    "In this way, the gamma LUT definition for grayscale images, where each pixel $i$ takes values in the range $[0 \\dots 255]$, is:\n",
    "\n",
    "$$LUT(i) = (\\frac{i}{255})^{\\gamma} * 255, \\ \\gamma \\gt 0 $$\n",
    "\n",
    "The following images illustrate the application of gamma correction for different values of $\\gamma$.\n",
    "\n",
    "<img src=\"./images/gamma_theory.jpg\" width=\"800\" >"
   ]
  },
  {
   "cell_type": "markdown",
   "metadata": {},
   "source": [
    "### **<span style=\"color:green\"><b><i>ASSIGNMENT 1: Applying non-linear LUTs</i></b></span>**\n",
    "\n",
    "Your task is to develop the `lut_chart()` function, which takes as arguments the image to be enhanced and a gamma value for building the non-linear LUT. It will also display a chart containing the original image, the gamma-corrected one, the used LUT and the histogram of the resulting image.\n",
    "\n",
    "As users from UMA will use color images, you will have to **implement it for color images**. This can be done by:\n",
    "1. **transforming** an image in the BGR color space **to the YCrCb one**,\n",
    "2. then, **applying gamma LUT only to first band** of the YCrCb space (that's because it contains pixel intensities and you can handle it like a gray image), and\n",
    "3. finally, as matplotlib displays RGB images (if verbose is True), it should be **converted back**. Also, return the resultant image.\n",
    "\n",
    "*Interesting functions:* \n",
    "- [`np.copy()`](https://numpy.org/doc/stable/reference/generated/numpy.copy.html): method that returns a copy of the array provided as input.\n",
    "- [`cv2.LUT()`](https://docs.opencv.org/master/d2/de8/group__core__array.html#gab55b8d062b7f5587720ede032d34156f): *function that  performs a look-up table transform of an array of arbitrary dimensions.*\n",
    "- [`plt.hist()`](https://matplotlib.org/3.3.1/api/_as_gen/matplotlib.pyplot.hist.html) *function that computes and draws the histogram of an array.  [`numpy.ravel()`](https://docs.scipy.org/doc/numpy/reference/generated/numpy.ravel.html) is a good helper here, since it converts a n-dimensional array into a flattened 1D array.* "
   ]
  },
  {
   "cell_type": "code",
   "execution_count": null,
   "metadata": {},
   "outputs": [],
   "source": [
    "# ASSIGNMENT 1\n",
    "# Implement a function that:\n",
    "# -- converts the input image from the BGR to the YCrCb color space\n",
    "# -- creates the gamma LUT\n",
    "# -- applies the LUT to the original image\n",
    "# -- displays in a 2x2 plot: the input image, the gamma-corrected one, the applied LUT and the resultant histogram if verbose = True\n",
    "def lut_chart(image, gamma, verbose=False):\n",
    "    \"\"\" Applies gamma correction to an image and shows the result.   \n",
    "    \n",
    "        Args:\n",
    "            image: Input image\n",
    "            gamma: Gamma parameter\n",
    "            verbose: Only show images if this is True\n",
    "            \n",
    "        Returns:\n",
    "            out_image: Gamma image\n",
    "    \"\"\"\n",
    "    \n",
    "    #Transform image to YCrCb color space\n",
    "    image = cv2.cvtColor(image, None)\n",
    "    out_image = np.copy(None)\n",
    "    \n",
    "    # Define gamma correction LUT\n",
    "    lut = np.array([((None / 255.0) ** None) * 255 for i in np.arange(0, 256)]).astype(\"uint8\")\n",
    "    \n",
    "    # Apply LUT to first band of the YCrCb image\n",
    "    out_image[:,:,0] = cv2.LUT(None,None)\n",
    "    \n",
    "    if verbose:\n",
    "        # Plot used LUT\n",
    "        plt.subplot(2,2,3)\n",
    "        plt.title('LUT')\n",
    "        plt.plot(None,None)\n",
    "\n",
    "        # Plot histogram of gray image after applying the LUT\n",
    "        plt.subplot(2,2,4)\n",
    "        plt.hist(None,None,None)\n",
    "        plt.title('Histogram')\n",
    "\n",
    "        # Reconvert image to RGB\n",
    "        image = cv2.cvtColor(image, None)\n",
    "        out_image = cv2.cvtColor(out_image, None)\n",
    "\n",
    "        # Show the initial image\n",
    "        plt.subplot(2,2,1)\n",
    "        plt.imshow(None)\n",
    "        plt.title('Original image')\n",
    "\n",
    "        # Show the resultant one\n",
    "        plt.subplot(2,2,2)\n",
    "        plt.imshow(None)\n",
    "        plt.title('LUT applied')\n",
    "        \n",
    "    return out_image"
   ]
  },
  {
   "cell_type": "markdown",
   "metadata": {},
   "source": [
    "You can use the next code to **test if results are correct**:"
   ]
  },
  {
   "cell_type": "code",
   "execution_count": null,
   "metadata": {},
   "outputs": [],
   "source": [
    "image = np.array([[[10,60,20],[60,22,74],[72,132,2]],[[11,63,42],[36,122,27],[37,113,30]],[[1,6,2],[6,22,7],[7,13,0]]], dtype=np.uint8)\n",
    "gamma = 2\n",
    "print(lut_chart(image, gamma))"
   ]
  },
  {
   "cell_type": "markdown",
   "metadata": {},
   "source": [
    "<font color='blue'>**Expected output:**  </font>\n",
    "\n",
    "    [[[  6 112 110]\n",
    "      [  6 151 138]\n",
    "      [ 29  68 120]]\n",
    "\n",
    "     [[ 10 122 105]\n",
    "      [ 27  87 101]\n",
    "      [ 25  92 104]]\n",
    "\n",
    "     [[  0 127 126]\n",
    "      [  1 122 122]\n",
    "      [  0 122 127]]]"
   ]
  },
  {
   "cell_type": "markdown",
   "metadata": {},
   "source": [
    "### <font color=\"blue\"><b><i>Thinking about it (1)</i></b></font>\n",
    "\n",
    "In the interactive code cell below, **you are asked to** explore how your new `lut_chart()` function works with `gamma_1.jpg` (an underexposed image) and `gamma_2.jpeg` (an overexposed image). Then, **answer the following question** (you can take a look at the LUT and the resulting histogram):\n",
    "\n",
    "- What is happening when the *gamma value* is modified?\n",
    "  \n",
    "    <p style=\"margin: 4px 0px 6px 5px; color:blue\"><i>Your answer here!</i></p>  "
   ]
  },
  {
   "cell_type": "code",
   "execution_count": null,
   "metadata": {},
   "outputs": [],
   "source": [
    "# Create widget object\n",
    "gamma_widget = widgets.FloatSlider(value=1, min=0.1, max=5, step=0.1, description='Gamma:')\n",
    "\n",
    "#Read image\n",
    "image = cv2.imread(images_path + 'gamma_2.jpeg',-1)\n",
    "\n",
    "#Interact with your code!\n",
    "interactive(lut_chart, image=fixed(image), gamma=gamma_widget, verbose=fixed(True))"
   ]
  },
  {
   "cell_type": "markdown",
   "metadata": {},
   "source": [
    "## 2.3.2 Histogram equalization <a id=232></a>\n",
    "\n",
    "**Histogram equalization** is an image processing technique used to improve contrast in images. It operates by effectively spreading out the most frequent intensity values, i.e. stretching out the intensity range of the image so each possible pixel intensity appears the same number of times as every other value. This method usually increases the global contrast of images when its usable data is represented by close contrast values. This allows for areas of lower local contrast to gain a higher contrast.\n",
    "\n",
    "<img src=\"./images/equalization.png\" width=\"300\" />$\\\\[5pt]$\n",
    "\n",
    "To put an example, the [**equalize**](https://docs.gimp.org/2.10/en/gimp-layer-equalize.html) command from GIMP applies histogram equalization. But... how is this equalization achieved?\n",
    "\n",
    "- First it is calculated the PMF ([probability mass function](https://en.wikipedia.org/wiki/Probability_mass_function)) of all the pixels in the image. Basically, this is a normalization of the histogram.\n",
    "\n",
    "- Next step involves calculation of CDF ([cumulative distributive function](https://en.wikipedia.org/wiki/Cumulative_distribution_function)), producing the LUT for histogram equalization.\n",
    "\n",
    "- Finally, the obtained LUT is applied. \n",
    "\n",
    "The figure below shows an example of applying histogram equalization to an image.$\\\\[10pt]$\n",
    "\n",
    "<img src=\"./images/equalize_theory.png\" width=\"600\" />$\\\\[5pt]$"
   ]
  },
  {
   "cell_type": "markdown",
   "metadata": {},
   "source": [
    "### **<span style=\"color:green\"><b><i>ASSIGNMENT 2: Equalizing the histogram!</i></b></span>**\n",
    "\n",
    "Similarly to the previous exercise, **you are asked to** develop a function called `equalize_chart()`. This method takes a **color** image, and will display a plot containing:\n",
    "\n",
    "- the original image, \n",
    "- the equalized image, \n",
    "- the original image histogram, and \n",
    "- the equalized image histogram.\n",
    "\n",
    "*Tip: openCV implements histogram equalization in [cv2.equalizeHist()](https://docs.opencv.org/2.4/modules/imgproc/doc/histograms.html?highlight=equalizehist)*"
   ]
  },
  {
   "cell_type": "code",
   "execution_count": null,
   "metadata": {},
   "outputs": [],
   "source": [
    "# ASSIGNMENT 2\n",
    "# Implement a function that:\n",
    "# -- converts the input image from the BGR to the YCrCb color space\n",
    "# -- applies the histogram equalization\n",
    "# -- displays in a 2x2 plot: the input image, the equalized one, the original histogram and the equalized one, if verbose = True\n",
    "def equalize_chart(image, verbose=False):\n",
    "    \"\"\" Applies histogram equalization to an image and shows the result.   \n",
    "    \n",
    "        Args:\n",
    "            image: Input image\n",
    "            verbose: Only show images if this is True\n",
    "            \n",
    "        Returns:\n",
    "            out_image: Equalized histogram image\n",
    "    \"\"\"\n",
    "\n",
    "    #Transform image to YCrCb color space\n",
    "    image = cv2.cvtColor(image, None)\n",
    "    out_image = np.copy(None)\n",
    "    \n",
    "    # Apply histogram equalization to first band of the YCrCb image\n",
    "    out_image[:,:,0] = cv2.equalizeHist(None)\n",
    "    \n",
    "    if verbose:\n",
    "\n",
    "        # Plot histogram of gray image \n",
    "        plt.subplot(2,2,3)\n",
    "        plt.hist(None,None,None)\n",
    "        plt.title('Original histogram')\n",
    "\n",
    "        # Plot equalized histogram of the processed image\n",
    "        plt.subplot(2,2,4)\n",
    "        plt.hist(None,None,None)\n",
    "        plt.title('Equalized histogram')\n",
    "\n",
    "        # Reconvert image to RGB\n",
    "        image = cv2.cvtColor(image, None)\n",
    "        out_image = cv2.cvtColor(out_image, None)\n",
    "\n",
    "        # Show the initial image\n",
    "        plt.subplot(2,2,1)\n",
    "        plt.imshow(None)\n",
    "        plt.title('Original image')\n",
    "\n",
    "        # Show the resultant one\n",
    "        plt.subplot(2,2,2)\n",
    "        plt.imshow(None)\n",
    "        plt.title('Equalized histogram image')\n",
    "        \n",
    "    return out_image"
   ]
  },
  {
   "cell_type": "markdown",
   "metadata": {},
   "source": [
    "You can use the next code to **test if your results are correct**:"
   ]
  },
  {
   "cell_type": "code",
   "execution_count": null,
   "metadata": {},
   "outputs": [],
   "source": [
    "image = np.array([[[10,60,20],[60,22,74],[72,132,2]],[[11,63,42],[36,122,27],[37,113,30]],[[1,6,2],[6,22,7],[7,13,0]]], dtype=np.uint8)\n",
    "print(equalize_chart(image))"
   ]
  },
  {
   "cell_type": "markdown",
   "metadata": {},
   "source": [
    "<font color='blue'>**Expected output:**  </font>\n",
    "\n",
    "    [[[128 112 110]\n",
    "      [128 151 138]\n",
    "      [255  68 120]]\n",
    "\n",
    "     [[159 122 105]\n",
    "      [223  87 101]\n",
    "      [191  92 104]]\n",
    "\n",
    "     [[  0 127 126]\n",
    "      [ 64 122 122]\n",
    "      [ 32 122 127]]]"
   ]
  },
  {
   "cell_type": "markdown",
   "metadata": {},
   "source": [
    "### <font color=\"blue\"><b><i>Thinking about it (2)</i></b></font>\n",
    "\n",
    "We have developed our second image enhancement technique! Now try `equalize_chart()` with the `park.png` image in the code cell below. Then, **answer following questions**:\n",
    "\n",
    "- What is the difference between the original histogram and the equalized one?\n",
    "  \n",
    "    <p style=\"margin: 4px 0px 6px 5px; color:blue\"><i>Your answer here!</i></p>\n",
    "    \n",
    "- Is the final histogram uniform? why?\n",
    "\n",
    "    <p style=\"margin: 4px 0px 0px 5px; color:blue\"><i>Your answer here!</i></p>   "
   ]
  },
  {
   "cell_type": "code",
   "execution_count": null,
   "metadata": {},
   "outputs": [],
   "source": [
    "# Read image\n",
    "image = cv2.imread(images_path + 'park.png',-1)\n",
    "\n",
    "# Equalize its histogram\n",
    "interactive(equalize_chart, image=fixed(image), verbose=fixed(True))"
   ]
  },
  {
   "cell_type": "markdown",
   "metadata": {},
   "source": [
    "## 2.3.3 Histogram specification <a id=233></a>\n",
    "\n",
    "**Histogram specification** is the transformation of an image so that its histogram matches a specified one. In fact, the histogram equalization method is a special case in which the specified histogram is uniformly distributed.\n",
    "\n",
    "<img src=\"./images/specification.png\" width=\"600\" >\n",
    "\n",
    "It's implementation is very similar to histogram equalization:\n",
    "\n",
    "- First it is calculated the PMF ([probability mass function](https://en.wikipedia.org/wiki/Probability_mass_function)) of all the pixels in both (source and reference) images.\n",
    "\n",
    "- Next step involves calculation of CDF ([cumulative distributive function](https://en.wikipedia.org/wiki/Cumulative_distribution_function)) for both histograms ($F_1$ for source histogram and $F_2$ for reference histogram).$\\\\[3pt]$\n",
    "\n",
    "- Then for each gray level $G_1 \\in [0,255]$ , we find the gray level $G_2$, for which $F_1(G_1) = F_2(G_2)$, producing the LUT for histogram equalization.\n",
    "\n",
    "- Finally, the obtained LUT is applied. "
   ]
  },
  {
   "cell_type": "markdown",
   "metadata": {},
   "source": [
    "### **<span style=\"color:green\"><b><i>ASSIGNMENT 3: Let's specify the histogram</i></b></span>**\n",
    "\n",
    "Apply histogram specification using the `ramos.jpg` (image to enhance) and `illumination.png` (reference) gray images. Then, show the resultant image along with input images (show their histograms as well). \n",
    "\n",
    "Unfortunately, histogram specification is not implemented in our loved OpenCV. In this case you have to rely on the [skimage.exposure.match_histograms()](https://scikit-image.org/docs/dev/auto_examples/color_exposure/plot_histogram_matching.html) function from the also popular scikit-image library."
   ]
  },
  {
   "cell_type": "code",
   "execution_count": null,
   "metadata": {},
   "outputs": [],
   "source": [
    "# ASSIGNMENT 3\n",
    "# Write your code here!\n",
    "from skimage.exposure import match_histograms\n",
    "\n",
    "matplotlib.rcParams['figure.figsize'] = (15.0, 10.0)\n",
    "\n",
    "image = cv2.imread(images_path + None,0)\n",
    "reference = cv2.imread(images_path + None,0)\n",
    "\n",
    "matched = match_histograms(None, None)\n",
    "\n",
    "# Plot results\n",
    "plt.subplot(231)\n",
    "plt.imshow(None, cmap='gray')\n",
    "plt.title('Source')\n",
    "\n",
    "plt.subplot(232)\n",
    "plt.imshow(None, cmap='gray')\n",
    "plt.title('Reference')\n",
    "\n",
    "plt.subplot(233)\n",
    "plt.imshow(None, cmap='gray')\n",
    "plt.title('Matched')\n",
    "\n",
    "plt.subplot(234)\n",
    "plt.hist(None,None,None)\n",
    "plt.title('Source histogram')\n",
    "\n",
    "plt.subplot(235)\n",
    "plt.hist(None,None,None)\n",
    "plt.title('Reference histogram')\n",
    "\n",
    "plt.subplot(236)\n",
    "plt.hist(None,None,None)\n",
    "plt.title('Matched histogram')"
   ]
  },
  {
   "cell_type": "markdown",
   "metadata": {},
   "source": [
    "## Conclusion\n",
    "\n",
    "Great! We are sure that UMA users are going to appreciate your efforts. Also, next time you use an image editor tool you are going to have another point of view of how things work.\n",
    "\n",
    "In conclusion, in this notebook you have learned:\n",
    "\n",
    "- How to define a **gamma correction (non-linear) LUT** and to how to apply it to an image.\n",
    "- How **histogram specification** works and its applications. When the specified histogram is uniformly distributed, we call it **histogram equalization**."
   ]
  },
  {
   "cell_type": "markdown",
   "metadata": {},
   "source": [
    "## Extra\n",
    "\n",
    "But this doesn't have to be the end, open GIMP and look through others implemented methods.  \n",
    "\n",
    "As you are learning about image processing, **comment how you think they are implemented from scratch.**"
   ]
  }
 ],
 "metadata": {
  "kernelspec": {
   "display_name": "Python 3",
   "language": "python",
   "name": "python3"
  },
  "language_info": {
   "codemirror_mode": {
    "name": "ipython",
    "version": 3
   },
   "file_extension": ".py",
   "mimetype": "text/x-python",
   "name": "python",
   "nbconvert_exporter": "python",
   "pygments_lexer": "ipython3",
   "version": "3.6.10"
  },
  "varInspector": {
   "cols": {
    "lenName": 16,
    "lenType": 16,
    "lenVar": 40
   },
   "kernels_config": {
    "python": {
     "delete_cmd_postfix": "",
     "delete_cmd_prefix": "del ",
     "library": "var_list.py",
     "varRefreshCmd": "print(var_dic_list())"
    },
    "r": {
     "delete_cmd_postfix": ") ",
     "delete_cmd_prefix": "rm(",
     "library": "var_list.r",
     "varRefreshCmd": "cat(var_dic_list()) "
    }
   },
   "types_to_exclude": [
    "module",
    "function",
    "builtin_function_or_method",
    "instance",
    "_Feature"
   ],
   "window_display": false
  }
 },
 "nbformat": 4,
 "nbformat_minor": 4
}
