{
 "cells": [
  {
   "cell_type": "markdown",
   "metadata": {},
   "source": [
    "# 2.1 Image processing tools\n",
    "\n",
    "Image processing encompasses a number of techniques to improve the overall quality of an image (image smoothing, enhancement, etc.). Before going into those techniques in depth, it is useful to understand some basic concepts:\n",
    "\n",
    "- Image histograms\n",
    "- Brightness and contrast\n",
    "- Binarization\n",
    "- Look up tables\n",
    "\n",
    "Next sections introduce those concepts in the context of a real problem. "
   ]
  },
  {
   "cell_type": "markdown",
   "metadata": {},
   "source": [
    "## Problem context - Number-plate recognition\n",
    "\n",
    "<img src=\"./images/access_system.png\" width=\"400\">\n",
    "\n",
    "\n",
    "Recently, the University of Málaga (UMA) is having trouble with private parking access. Someone has hacked their access system, so cars without previous authorization are parking there.\n",
    "\n",
    "UMA asked computer vision students for help to implement some more secure methods that have to be included in a new security system.\n",
    "\n",
    "They provided some images of unauthorized plates to ease the software development: `car_plate_1.jpg`, `car_plate_2.jpg` and `car_plate_3.jpg`."
   ]
  },
  {
   "cell_type": "code",
   "execution_count": null,
   "metadata": {},
   "outputs": [],
   "source": [
    "import numpy as np\n",
    "import cv2\n",
    "import matplotlib.pyplot as plt\n",
    "import matplotlib\n",
    "from ipywidgets import interactive, fixed, widgets\n",
    "matplotlib.rcParams['figure.figsize'] = (15.0, 15.0)\n",
    "\n",
    "images_path = './images/'"
   ]
  },
  {
   "cell_type": "markdown",
   "metadata": {},
   "source": [
    "## 2.1.1 Image histograms\n",
    "\n",
    "And there we go! We are excited with the idea of developing a software to help UMA. For that, they provided us with a list of concepts and techniques that we have to master in order to design a successful plate recognition system. \n",
    "\n",
    "The first one is such of **histogram**:\n",
    "\n",
    "- A representation of the frequency of each color intensity appearing in the image.\n",
    "- It is built by iterating over all the pixels in the image while counting the occurrence of each color. *Note that a RGB image has 3 histograms, one per channel.* \n",
    "- It provides statistical information of the intensity distribution, like the image brightness or contrast. \n",
    "\n",
    "The concepts of **brightness** and **contrast** are specially relevant for image processing:\n",
    "- *brightness*: average intensity of image pixels, so dark images have a low brightness, while lighter ones have a high brightness. \n",
    "- *contrast*: square distance of the intensities from the average, that is, a measure of the quality of the image given its usage of all the possible color intensities in the histogram. \n",
    "\n",
    "Typically, a high quality image have a medium brightness and a high contrast. \n",
    "\n",
    "The following code illustrates these first concepts with a few examples!\n",
    "\n",
    "*Interesting functions:* \n",
    "- [`cv2.imread()`](https://www.geeksforgeeks.org/python-opencv-cv2-imread-method/) *function for reading images in OpenCV.*\n",
    "- [`plt.subplot()`](https://matplotlib.org/api/_as_gen/matplotlib.pyplot.subplot.html) *this method from matplotlib creates a grid of subfigures with a given number of rows and columns.* \n",
    "- [`plt.hist()`](https://matplotlib.org/3.3.1/api/_as_gen/matplotlib.pyplot.hist.html) *function that computes and draws the histogram of an array.  [`numpy.ravel()`](https://docs.scipy.org/doc/numpy/reference/generated/numpy.ravel.html) is a good helper here, since it converts a n-dimensional array into a flattened 1D array.* \n",
    "- [`plt.imshow()`](https://matplotlib.org/3.3.2/api/_as_gen/matplotlib.pyplot.imshow.html) *matplotlib function for displaying images. If the image is grayscale you should use the parameter `cmap='gray'`.*"
   ]
  },
  {
   "cell_type": "code",
   "execution_count": null,
   "metadata": {
    "scrolled": false
   },
   "outputs": [],
   "source": [
    "# Read dark image and show it\n",
    "image = cv2.imread(images_path + 'landscape_1.jpg',cv2.IMREAD_GRAYSCALE)\n",
    "plt.subplot(2,2,1)\n",
    "plt.title(\"Dark image (low brightness, low contrast)\")\n",
    "# plt.xticks([]), plt.yticks([])  # this option hides tick values on X and Y axis\n",
    "plt.imshow(image, cmap='gray')\n",
    "\n",
    "# Now, show its histogram\n",
    "plt.subplot(2,2,2)\n",
    "plt.title(\"Histogram\")\n",
    "plt.hist(image.ravel(),256,[0,256]) # ravel() returns a 1-D array, containing the elements of image\n",
    "\n",
    "# Read light image and show it\n",
    "image = cv2.imread(images_path + 'landscape_2.jpg',cv2.IMREAD_GRAYSCALE)\n",
    "plt.subplot(2,2,3)\n",
    "plt.title(\"Light image (high brightness, higher contrast)\")\n",
    "plt.imshow(image, cmap='gray')\n",
    "\n",
    "# Now, its histogram\n",
    "plt.subplot(2,2,4)\n",
    "plt.title(\"Histogram\")\n",
    "plt.hist(image.ravel(),256,[0,256]) # ravel() returns a 1-D array, containing the elements of image\n",
    "plt.show() "
   ]
  },
  {
   "cell_type": "markdown",
   "metadata": {},
   "source": [
    "## 2.1.2 Binarization \n",
    "\n",
    "One of the utilities of histograms is the fit of thresholds for **binarization**. Binarization consists of assigning the \"0\" or black value to the pixels having an intensity value under a given threshold (`th`), and \"1\" or white value to those having an intensity over it. Formally:\n",
    "\n",
    "$$\n",
    "binarized(i,j)=\\left\\{\\begin{matrix}\n",
    "0 & \\text{if } intensity(i,j) < th\\\\ \n",
    "1 & \\text{otherwise}\n",
    "\\end{matrix}\\right. \\ \\ \\ \\forall i \\in [0 \\dots n\\_rows-1], \\forall j \\in [0 \\dots n\\_cols-1]\n",
    "$$ \n",
    "\n",
    "In our context, binarization can be a great tool for separating characters appearing on the plate (with a dark color) from the rest of the plate (with a lighter one). This will remove unnecessary information within the image. So let's implement it!"
   ]
  },
  {
   "cell_type": "markdown",
   "metadata": {},
   "source": [
    "### **<span style=\"color:green\"><b><i>ASSIGNMENT 1: Cropping an image</i></b></span>**\n",
    "\n",
    "Read the image `car_plate_1.jpg` and crop it to a rectangle (approximately) containing the plate.\n",
    "\n",
    "*Hint: to crop an image you can use numpy array slicing.* "
   ]
  },
  {
   "cell_type": "code",
   "execution_count": null,
   "metadata": {},
   "outputs": [],
   "source": [
    "# ** ASSIGNMENT 1 **\n",
    "# Load the image, crop it around the car plate and show it\n",
    "# Write your code here!\n",
    "\n",
    "image = None # Load the image\n",
    "image_cropped = None # crop it\n",
    "plt.imshow(None, None) # show it!\n",
    "plt.show()"
   ]
  },
  {
   "cell_type": "markdown",
   "metadata": {},
   "source": [
    "Now, we are going to use the first concept we learned, **histograms**, to see if the image is easily binarizable. To fulfill this condition, the intensity of the pixels in the image must be roughly grouped around two different values. \n",
    "\n",
    "### **<span style=\"color:green\"><b><i>ASSIGNMENT 2: Showing a histogram</i></b></span>**\n",
    "\n",
    "Show the histogram of `image_cropped`.\n",
    "\n",
    "*Tip: [plot histogram using matplotlib](https://matplotlib.org/3.2.0/api/_as_gen/matplotlib.pyplot.hist.html), bins and range parameters are very important! Also recall the `ravel()` funciton*"
   ]
  },
  {
   "cell_type": "code",
   "execution_count": null,
   "metadata": {},
   "outputs": [],
   "source": [
    "# ** ASSIGNMENT 2 **\n",
    "# Compute the image histogram and show it\n",
    "# Write your code here!\n",
    "\n",
    "None # Compute the histogram and show it\n",
    "plt.show()"
   ]
  },
  {
   "cell_type": "markdown",
   "metadata": {},
   "source": [
    "### <font color=\"blue\"><b><i>Thinking about it (1)</i></b></font>\n",
    "\n",
    "**Answer the following questions** about the obtained results:\n",
    "\n",
    "- According to your (growing) expertise, could we correctly binarize this image? \n",
    "\n",
    "    <p style=\"margin: 4px 0px 6px 5px; color:blue\"><i>Your answer here!</i></p>\n",
    "\n",
    "- Which threshold should we use?\n",
    "\n",
    "    <p style=\"margin: 4px 0px 6px 5px; color:blue\"><i>Your answer here!</i></p>"
   ]
  },
  {
   "cell_type": "markdown",
   "metadata": {},
   "source": [
    "### **<span style=\"color:green\"><b><i>ASSIGNMENT 3: Binarizing an image. Exiting, isn't it?</i></b></span>**\n",
    "\n",
    "Now that we have some cues about how to binarize an image, let's take a look through [OpenCV documentation](https://docs.opencv.org/master/d7/d4d/tutorial_py_thresholding.html) to develop it. \n",
    "\n",
    "Implement a function that:\n",
    "- takes a gray image and a threshold as inputs, \n",
    "- binarizes the image,\n",
    "- and displays it!\n",
    "\n",
    "*Hint: Notice that some OpenCV functions returns in first place a variable called **ret**, which content depends on the function itself.*"
   ]
  },
  {
   "cell_type": "code",
   "execution_count": null,
   "metadata": {},
   "outputs": [],
   "source": [
    "# ** ASSIGNMENT 3 **\n",
    "# Implement a function that binarizes an image and displays it\n",
    "def binarize(image,threshold):\n",
    "    \"\"\" Binarizes an input image and returns it.   \n",
    "    \n",
    "        Args:\n",
    "            image: Input image to be binarized\n",
    "            threshold: Pixels with intensity values under this parameters\n",
    "                    are set to 0 (black), and those over it to 255 (white).  \n",
    "                    \n",
    "        Returns: \n",
    "            image_binarized: Binarized image\n",
    "    \"\"\"   \n",
    "    ret,image_binarized = None\n",
    "    plt.imshow(None, None)\n",
    "    plt.title('Binarized image')\n",
    "    plt.show()\n",
    "    \n",
    "    return None"
   ]
  },
  {
   "cell_type": "markdown",
   "metadata": {},
   "source": [
    "#### Extra! interacting with code\n",
    "\n",
    "Jupyter has some interesting methods that allow interaction with our code, and we are going to leverage them throughout the course. Concretely, we will use the [interaction function](https://ipywidgets.readthedocs.io/en/latest/examples/Using%20Interact.html). \n",
    "\n",
    "To play a bit with it, move the slider below to change the threshold value when calling the `binarize()` function. "
   ]
  },
  {
   "cell_type": "code",
   "execution_count": null,
   "metadata": {},
   "outputs": [],
   "source": [
    "# Interact with the threshold value\n",
    "interactive(binarize, image=fixed(image_cropped), threshold=(0, 255, 25))"
   ]
  },
  {
   "cell_type": "markdown",
   "metadata": {},
   "source": [
    "## 2.1.3 Look-up Tables (LUTs) \n",
    "\n",
    "Another basic, widely used technique for image processing is such of **Look-up Tables (LUTs)**. A LUT is a table to look up the output intensity for each input one. That is, it defines a mapping between input intensity values and output ones.\n",
    "\n",
    "Note that if working with color (e.g. RGB) images, a LUT has to be defined for each color channel. \n",
    "\n",
    "LUTs are extremely useful for modifying the brightness and contrast of images, that is, for adapting their histograms according to our needs. Some examples about the possibilities that LUTs offer are shown below (the x-axes represent input intensity values, while y-axes represent output ones):\n",
    "\n",
    "<img src=\"./images/bright_contrast.png\" width=\"1000\"/> \n",
    "\n",
    "For example, the figure below shows the result of applying a LUT where the pixels with intensities from 0 to 50 are assigned to 0 (black), and those from 200 to 255 are assigned to 255 (white). Pixels with values in between are assigned to values from 1 to 254. The histogram of the resultant image is also shown:\n",
    "\n",
    "<img src=\"./images/result_lut.png\" width=\"500\"/> \n",
    "\n",
    "Regarding our plate recognition problem, by doing this we remove noisy intensity values around black and white, obtaining a more *clean* image (see the resultant histogram). And, of course, we want to try it!"
   ]
  },
  {
   "cell_type": "markdown",
   "metadata": {},
   "source": [
    "### **<span style=\"color:green\"><b><i>ASSIGNMENT 4a: Things get serious, implementing a LUT!</i></b></span>**\n",
    "\n",
    "Implement the `lut_chart()` function to:\n",
    "- take a gray image and a look-up table (256-length array), \n",
    "- display a chart showing differences between the initial image and the resultant one after applying the LUT. *Tip: [how to create subplots in Python](https://matplotlib.org/3.1.1/api/_as_gen/matplotlib.pyplot.subplot.html)*\n",
    "\n",
    "*Interesting functions:* \n",
    "- [cv2.LUT()](https://docs.opencv.org/master/d2/de8/group__core__array.html#gab55b8d062b7f5587720ede032d34156f): *function that  performs a look-up table transform of an array of arbitrary dimensions.*"
   ]
  },
  {
   "cell_type": "code",
   "execution_count": null,
   "metadata": {},
   "outputs": [],
   "source": [
    "# ** ASSIGNMENT 4a **\n",
    "# Implement a function that takes a gray image and applies a LUT to it. This must show a 2x2 plot with\n",
    "# -- input image\n",
    "# -- resultant image\n",
    "# -- employed LUT\n",
    "# -- histogram of the resultant image\n",
    "def lut_chart(image, lut):\n",
    "    \"\"\" Applies a LUT to an image and shows the result. \n",
    "    \n",
    "        Args:\n",
    "            image: Input image to be modified.\n",
    "            lut: a 256 elements array representing a LUT, where \n",
    "                indices index input values, and their content the\n",
    "                output ones.        \n",
    "    \"\"\"   \n",
    "    # Apply LUT\n",
    "    im_lut = None\n",
    "    \n",
    "    # Show the initial image\n",
    "    plt.figure(1)\n",
    "    plt.subplot(None, None, None)\n",
    "    plt.imshow(None, None)\n",
    "    plt.title('Original image')\n",
    "    \n",
    "    # Show the resultant one\n",
    "    plt.subplot(None, None, None)\n",
    "    plt.imshow(None, None)\n",
    "    plt.title('LUT applied')\n",
    "    \n",
    "    # Plot the used LUT\n",
    "    plt.subplot(None,None,None)\n",
    "    plt.title('LUT')\n",
    "    plt.plot(None, None) # Hint: np.arange() can be useful as first argument to this function\n",
    "\n",
    "    # And finally, the resultant histogram\n",
    "    plt.subplot(None, None, None)\n",
    "    plt.hist(None, None, None)\n",
    "    plt.title('Histogram')\n",
    "    plt.show()\n"
   ]
  },
  {
   "cell_type": "markdown",
   "metadata": {},
   "source": [
    "### **<span style=\"color:green\"><b><i>ASSIGNMENT 4b: Applying our amazing function</i></b></span>**\n",
    "\n",
    "Finally, let's try our `lut_chart()` function with different look-up tables. Try to play with bright and contrast in order to get an enhanced image. For that:\n",
    "\n",
    "1. Create a look-up table.\n",
    "2. Call our function with it as second argument.\n",
    "\n",
    "You can repeat the previous steps playing with different look-up tables and showing the results using *subplots*.\n",
    "\n",
    "*Hint: An easy way to create a LUT could be:*\n",
    "1. Create an *identity LUT* with numbers from 0 up to 255 with [`numpy.arange()`](https://docs.scipy.org/doc/numpy/reference/generated/numpy.arange.html) (this function returns evenly spaced values within a given interval). If you use this directly as LUT, the pixels in the output will have the same intensity value as in the input. Try it!\n",
    "2. Modify such LUT using [`numpy.clip()`](https://docs.scipy.org/doc/numpy/reference/generated/numpy.clip.html). For that you could call it as `lut = np.clip((lut-a)*b,0,255)`."
   ]
  },
  {
   "cell_type": "code",
   "execution_count": null,
   "metadata": {
    "scrolled": false
   },
   "outputs": [],
   "source": [
    "# ASSIGNMENT 4b\n",
    "# Create the LUT array (have a look to numpy.arange and numpy.clip functions)\n",
    "lut = np.arange(None)\n",
    "a = None\n",
    "b = None\n",
    "lut = np.clip((lut-a)*b, None, None)\n",
    "\n",
    "# Execute our function on the cropped car plate image\n",
    "lut_chart(image_cropped,lut)"
   ]
  },
  {
   "cell_type": "markdown",
   "metadata": {},
   "source": [
    "## 2.1.4 Convolutions\n",
    "\n",
    "A 2D convolution, represented by the $\\oplus$ symbol, is a fundamental tool in numerous image processing techniques (e.g. image smoothing, edge detection, etc.). Concretely, this mathematical operation is useful when implementing operators whose output pixel values are linear combinations of input ones.\n",
    "\n",
    "There are two principal actors in a convolution: **the image** and **the kernel**. Both are 2D matrices, but usually the **kernel has a significant lower size** compared with the image. Let's define them as:\n",
    "\n",
    "- **Image ($I$)**: The image in which some image processing technique is needed.  \n",
    "\n",
    "<img src=\"./images/lena.jpeg\" width=\"200\">\n",
    "\n",
    "\n",
    "- **Kernel ($K$)**: A small 2D matrix that defines the linear operation that is going to be applied over the image.\n",
    "\n",
    "<table>\n",
    "\t<tbody>\n",
    "\t\t<tr>\n",
    "\t\t\t<td style=\"border: 1px solid;\">1/9</td>\n",
    "\t\t\t<td style=\"border: 1px solid;\">1/9</td>\n",
    "\t\t\t<td style=\"border: 1px solid;\">1/9</td>\n",
    "\t\t</tr>\n",
    "\t\t<tr>\n",
    "\t\t\t<td style=\"border: 1px solid;\">1/9</td>\n",
    "\t\t\t<td style=\"border: 1px solid;\">1/9</td>\n",
    "\t\t\t<td style=\"border: 1px solid;\">1/9</td>\n",
    "\t\t</tr>\n",
    "\t\t<tr>\n",
    "\t\t\t<td style=\"border: 1px solid;\">1/9</td>\n",
    "\t\t\t<td style=\"border: 1px solid;\">1/9</td>\n",
    "\t\t\t<td style=\"border: 1px solid;\">1/9</td>\n",
    "\t\t</tr>\n",
    "\t</tbody>\n",
    "</table> $\\\\[5pt]$\n",
    "\n",
    "Once we have defined the input image and the kernel, the convolution operation for a certain pixel with coordinates $r$ and $c$ results:$\\\\[5pt]$\n",
    "\n",
    "$$O(r,c) = \\sum_{i=-w}^w \\ \\sum_{j=-w}^w \\ I(r+i, c+j) * K(-i, -j)$$\n",
    "\n",
    "where:  \n",
    "- $O$ is the output image.  \n",
    "- $w$ is the kernel aperture size (for example, the kernel shown above would have an aperture of $w=1$).\n",
    "\n",
    "But, what does this equation actually does?\n",
    "\n",
    "> Convolution is the process of adding each element of the input image with its local neighbors, weighted by the kernel. For example, if we have two three-by-three matrices, one of them a kernel, and the other a piece of the image, convolution is the process of **flipping both the rows and columns of the kernel and then multiplying locationally similar entries and summing**\n",
    "\n",
    "For example, the pixel value in the [2,2] position on the resulting image would be a weighted combination of all the entries of the image matrix, with weights given by the kernel. $\\\\[5pt]$\n",
    "\n",
    "$$\\left(\\begin{bmatrix} 1 & 2 & 3\\\\ 4 & \\color{red}5 & 6 \\\\ 7 & 8 & 9\\end{bmatrix}  \\oplus \\begin{bmatrix} a & b & c\\\\ d & e & f \\\\ g & h & i\\end{bmatrix} \\right)\\color{red}{[2,2]} = (1*i) + (2*h) + (3*g) + (4*f) + (5*e) + (6*d) + (7*c) + (8*b) + (9*a)$$\n",
    "\n",
    "As said above, if we flip the kernel across both axes, the formula of the convolution turns into an element-wise matrix multiplication:$\\\\[5pt]$\n",
    "\n",
    "$$\\left(\\begin{bmatrix} 1 & 2 & 3\\\\ 4 & \\color{red}5 & 6 \\\\ 7 & 8 & 9\\end{bmatrix}  \\oplus \\begin{bmatrix} a & b & c\\\\ d & e & f \\\\ g & h & i\\end{bmatrix} \\right)\\color{red}{[2,2]} = \\left(\\begin{bmatrix} 1 & 2 & 3\\\\ 4 & 5 & 6 \\\\ 7 & 8 & 9\\end{bmatrix} .* \\begin{bmatrix} i & h & g\\\\ f & e & d \\\\ c & b & a\\end{bmatrix} \\right) = (1*i) + (2*h) + (3*g) + (4*f) + (5*e) + \\ldots $$\n",
    "\n",
    "When convolution is applied, it usually indexes out of bounds in the image, e.g.:$\\\\[5pt]$\n",
    "\n",
    "$$\\left(\\begin{bmatrix} \\color{red}1 & 2 & 3\\\\ 4 & 5 & 6 \\\\ 7 & 8 & 9\\end{bmatrix}  \\oplus \\begin{bmatrix} a & b & c\\\\ d & e & f \\\\ g & h & i\\end{bmatrix} \\right)\\color{red}{[1,1]} = (\\color{red}?*i) + (\\color{red}?*h) + (\\color{red}?*g) + (\\color{red}?*f) + (1*e) + (2*d) + (\\color{red}?*c) + (4*b) + (5*a)$$\n",
    "\n",
    "There are some **padding** options to deal with this problem:\n",
    "\n",
    "- Fill out of bound values with a constant value (**usually 0** or **values in the border** of the image),$\\\\[2pt]$\n",
    "- reflecting image values (e.g. $I[0,0] = I[1,1]$)\n",
    "- $\\ldots$\n",
    "\n",
    "Regarding our dear OpenCV library, it helps us by defining the 2D-convolution [cv2.filter2D()](https://docs.opencv.org/master/d4/d86/group__imgproc__filter.html#ga27c049795ce870216ddfb366086b5a04) method. Its main inputs are:\n",
    "\n",
    "- **src**: source image\n",
    "- **ddepth**: data type of output image (`cv2.CV_8U` for 8-bits unsigned integer, `cv2.CV_16S` for 16-bits signed integer, $\\ldots$). **It depends on the kernel** you use. Note that there are kernels that can return negative values in the convolution output.\n",
    "- **kernel**: convolution kernel.\n",
    "- **borderType**: padding options ([border types](https://docs.opencv.org/master/d2/de8/group__core__array.html#ga209f2f4869e304c82d07739337eae7c5)).\n",
    "\n",
    "Let's try convolution in a example!  "
   ]
  },
  {
   "cell_type": "markdown",
   "metadata": {},
   "source": [
    "### **<span style=\"color:green\"><b><i>ASSIGNMENT 5</i></b></span>**\n",
    "\n",
    "Apply a convolution to the grayscale image `lena.jpeg` using a $3\\times3$ kernel with a constant value of $1/9$."
   ]
  },
  {
   "cell_type": "code",
   "execution_count": null,
   "metadata": {},
   "outputs": [],
   "source": [
    "# ASSIGNMENT 5\n",
    "# Read the image\n",
    "image = None\n",
    "\n",
    "# Define the kernel\n",
    "kernel = None\n",
    "\n",
    "# Apply convolution (note that convolution cannot return negative values using this kernel)\n",
    "im_conv = None\n",
    "\n",
    "# Show original image\n",
    "plt.subplot(121)\n",
    "plt.title('Original')\n",
    "plt.imshow(None, None)\n",
    "\n",
    "# Show convolved image\n",
    "plt.subplot(122)\n",
    "plt.title('Convolved')\n",
    "plt.imshow(None, None)\n",
    "plt.show()"
   ]
  },
  {
   "cell_type": "markdown",
   "metadata": {},
   "source": [
    "### <font color=\"blue\"><b><i>Thinking about it (2)</i></b></font>\n",
    "\n",
    "**Answer the following questions** about convolution:\n",
    "\n",
    "- What is the difference between the original image and the convolved one?\n",
    "\n",
    "    <p style=\"margin: 4px 0px 6px 5px; color:blue\"><i>Your answer here!</i></p>\n",
    "\n",
    "- Can you guess which IP technique is such kernel implementing?\n",
    "\n",
    "    <p style=\"margin: 4px 0px 6px 5px; color:blue\"><i>Your answer here!</i></p>"
   ]
  },
  {
   "cell_type": "markdown",
   "metadata": {},
   "source": [
    "Additionally, you can use [this demo](https://setosa.io/ev/image-kernels/) to understand the convolution operator for image processing in a visual way. Anyway, **don't worry if you don't fully understand it**, convolution is a complex operation that have multiple applications and will be understood progressively while doing practical exercises. Exciting, isn't it?"
   ]
  },
  {
   "cell_type": "markdown",
   "metadata": {},
   "source": [
    "## Conclusion\n",
    "\n",
    "Brilliant! With this notebook we have:\n",
    "- Learned basic concepts within image processing like histograms, brightness, contrast, binarization and Look-up Tables. \n",
    "- Played a bit with them in the context of a plate recognition system, observing their utility for improving the quality of an image according to our needs. \n",
    "- Understood how convolution works. "
   ]
  }
 ],
 "metadata": {
  "kernelspec": {
   "display_name": "Python 3",
   "language": "python",
   "name": "python3"
  },
  "language_info": {
   "codemirror_mode": {
    "name": "ipython",
    "version": 3
   },
   "file_extension": ".py",
   "mimetype": "text/x-python",
   "name": "python",
   "nbconvert_exporter": "python",
   "pygments_lexer": "ipython3",
   "version": "3.6.10"
  },
  "varInspector": {
   "cols": {
    "lenName": 16,
    "lenType": 16,
    "lenVar": 40
   },
   "kernels_config": {
    "python": {
     "delete_cmd_postfix": "",
     "delete_cmd_prefix": "del ",
     "library": "var_list.py",
     "varRefreshCmd": "print(var_dic_list())"
    },
    "r": {
     "delete_cmd_postfix": ") ",
     "delete_cmd_prefix": "rm(",
     "library": "var_list.r",
     "varRefreshCmd": "cat(var_dic_list()) "
    }
   },
   "position": {
    "height": "429.85px",
    "left": "853.583px",
    "right": "20px",
    "top": "173px",
    "width": "578.333px"
   },
   "types_to_exclude": [
    "module",
    "function",
    "builtin_function_or_method",
    "instance",
    "_Feature"
   ],
   "window_display": false
  }
 },
 "nbformat": 4,
 "nbformat_minor": 4
}
