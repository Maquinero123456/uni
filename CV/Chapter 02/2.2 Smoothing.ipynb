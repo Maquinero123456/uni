{
 "cells": [
  {
   "cell_type": "markdown",
   "metadata": {},
   "source": [
    "# 2.2 Smoothing\n",
    "\n",
    "Images can exhibit different levels of *noise*: a random variation of brightness or color information. It is mainly produced by factors like the sensor response (more in CMOS technology), analog-to-digital conversion, *dead* sensor pixels, or bit errors in transmission, among others.\n",
    "\n",
    "There are two typical types of noise:\n",
    "\n",
    "- **Salt & pepper** noise (black and white pixels in random locations of the image) or **impulse** noise (only white pixels)\n",
    "\n",
    "- **Gaussian** noise (intensities are affected by an additive zero-mean Gaussian error).\n",
    "\n",
    "<img src=\"./images/noise.png\" width=\"800\"> \n",
    "\n",
    "In this section, we are going to learn about some smoothing techniques aiming to eliminate or reduce such noise, including:\n",
    "\n",
    "- Convolution-based methods\n",
    "  - Neighborhood averaging\n",
    "  - Gaussian filter\n",
    "- Median filter\n",
    "- Image average"
   ]
  },
  {
   "cell_type": "markdown",
   "metadata": {},
   "source": [
    "## Problem context - Number-plate recognition\n",
    "\n",
    "<img src=\"./images/access_system.png\" width=\"400\">\n",
    "\n",
    "Returning to the parking access problem proposed by UMA, they were grateful with your previous work. However, after some testing of your code, there were some complaints about binarization because it is not working as well as they expected. It is suspected that the found difficulties are caused by image noise. The camera that is being used in the system is having some problems, so different types of noise are appearing in its captured images. \n",
    "\n",
    "This way, UMA asked you again to provide some help with this problem!"
   ]
  },
  {
   "cell_type": "code",
   "execution_count": null,
   "metadata": {},
   "outputs": [],
   "source": [
    "import numpy as np\n",
    "from scipy import signal\n",
    "import cv2\n",
    "import matplotlib.pyplot as plt\n",
    "import matplotlib\n",
    "from ipywidgets import interactive, fixed, widgets\n",
    "matplotlib.rcParams['figure.figsize'] = (15.0, 15.0)\n",
    "import random\n",
    "\n",
    "images_path = './images/'"
   ]
  },
  {
   "cell_type": "markdown",
   "metadata": {},
   "source": [
    "### **<span style=\"color:green\"><b><i>ASSIGNMENT 1: Taking a look at images</i></b></span>**\n",
    "\n",
    "First, **display the images** `noisy_1.jpg` and `noisy_2.jpg` and try to detect why binarization is in trouble when processing them.\n"
   ]
  },
  {
   "cell_type": "code",
   "execution_count": null,
   "metadata": {},
   "outputs": [],
   "source": [
    "# ASSIGNMENT 1\n",
    "# Read 'noisy_1.jpg' and 'noisy_2.jpg' images and display them in a 1x2 plot\n",
    "# Write your code here!\n",
    "\n",
    "# Read images\n",
    "noisy_1 = None\n",
    "noisy_2 = None\n",
    "\n",
    "# Display first one\n",
    "plt.subplot(121)\n",
    "plt.imshow(None, None)\n",
    "plt.title('Noisy 1')\n",
    "\n",
    "# Display second one\n",
    "plt.subplot(122)\n",
    "plt.imshow(None, None)\n",
    "plt.title('Noisy 2')\n",
    "\n",
    "plt.show()"
   ]
  },
  {
   "cell_type": "markdown",
   "metadata": {},
   "source": [
    "### <font color=\"blue\"><b><i>Thinking about it (1)</i></b></font>\n",
    "\n",
    "Once you displayed both images, **answer the following questions:**\n",
    "\n",
    "- What is the difference between them?\n",
    "\n",
    "    <p style=\"margin: 4px 0px 6px 5px; color:blue\"><i>Your answer here!</i></p>\n",
    "\n",
    "- Why can this happen (the noise)?\n",
    "\n",
    "    <p style=\"margin: 4px 0px 6px 5px; color:blue\"><i>Your answer here!</i></p>"
   ]
  },
  {
   "cell_type": "markdown",
   "metadata": {},
   "source": [
    "## 2.2.1 Convolution-based methods\n",
    "\n",
    "There are some interesting smoothing techniques based on the convolution, a mathematical operation that can help you to alleviate problems caused by image noise. Two good examples are **neighborhood averaging** and **Gaussian filter**."
   ]
  },
  {
   "cell_type": "markdown",
   "metadata": {},
   "source": [
    "### a) Neighborhood averaging\n",
    "\n",
    "Convolving an image with a *small* kernel is similar to apply a function over all the image. For example, by using convolution it is possible to apply the first smoothing operator that you are going to try, **neighborhood averaging**. This operator averages the intensity values of pixels surrounding a given one, efficiently removing noise. Formally:\n",
    "\n",
    "$S(i,j) = \\frac{1}{p} \\sum_{(m,n)\\in s} I(m,n)$\n",
    "\n",
    "with $s$ being the set of $p$ pixels in the neighborhood ($m x n$) of $(i,j)$. Convolution permits us to implement it using a kernel, resulting in a linear operation! For example, a kernel for a 3x3 neighborhood would be:\n",
    "\n",
    "<table>\n",
    "\t<tbody>\n",
    "\t\t<tr>\n",
    "\t\t\t<td style=\"border: 1px solid;\">1/9</td>\n",
    "\t\t\t<td style=\"border: 1px solid;\">1/9</td>\n",
    "\t\t\t<td style=\"border: 1px solid;\">1/9</td>\n",
    "\t\t</tr>\n",
    "\t\t<tr>\n",
    "\t\t\t<td style=\"border: 1px solid;\">1/9</td>\n",
    "\t\t\t<td style=\"border: 1px solid;\" bgcolor=\"#81F7F3\">1/9</td>\n",
    "\t\t\t<td style=\"border: 1px solid;\">1/9</td>\n",
    "\t\t</tr>\n",
    "\t\t<tr>\n",
    "\t\t\t<td style=\"border: 1px solid;\">1/9</td>\n",
    "\t\t\t<td style=\"border: 1px solid;\">1/9</td>\n",
    "\t\t\t<td style=\"border: 1px solid;\">1/9</td>\n",
    "\t\t</tr>\n",
    "\t</tbody>\n",
    "</table>\n",
    "\n",
    "You can think that the kernel is like a weight matrix for neighbor pixels, and convolution like a double `for` loop that applies the kernel pixel by pixel over the image. \n",
    "\n",
    "Not everything will be perfect, and the **main drawback** of neighborhood averaging is the blurring of the edges appearing in the image. "
   ]
  },
  {
   "cell_type": "markdown",
   "metadata": {},
   "source": [
    "### **<span style=\"color:green\"><b><i>ASSIGNMENT 2: Applying average filtering</i></b></span>**\n",
    "\n",
    "Complete the method `average_filter()` that convolves an input image using a kernel which values depend on its size (e.g. for a size 3x3 size its values are 1/9, for a 5x5 size 1/25 and so on). Then display the differences between the original image and the resultant one if `verbose` is `True`. It takes the image and kernel aperture size as input and returns the smoothed image.\n",
    "\n",
    "*Tip: OpenCV defines the 2D-convolution [cv2.filter2D(src, ddepth, kernel)](https://docs.opencv.org/master/d4/d86/group__imgproc__filter.html#ga27c049795ce870216ddfb366086b5a04) method, where:*\n",
    "- *the `ddepth` parameter means desired depth of the destination image.*\n",
    "    - *Input images (`src`) use to be 8-bit unsigned integer (`ddepth`=cv2.CV_8U).*\n",
    "    - *However, output sometimes is required to be 16-bit signed (`ddepth`=cv2.CV_16S)*"
   ]
  },
  {
   "cell_type": "code",
   "execution_count": null,
   "metadata": {},
   "outputs": [],
   "source": [
    "# ASSIGNMENT 2\n",
    "# Implement a function that applies an 'average filter' to an input image. The kernel size of the filter is also an input. \n",
    "# Show the input image and the resulting one in a 1x2 plot.\n",
    "def average_filter(image, w_kernel, verbose=False):\n",
    "    \"\"\" Applies neighborhood averaging to an image and display the result.  \n",
    "    \n",
    "        Args:\n",
    "            image: Input image\n",
    "            w_kernel: Kernel aperture size (1 for a 3x3 kernel, 2 for a 5x5, etc.)\n",
    "            verbose: Only show images if this is True\n",
    "            \n",
    "        Returns:\n",
    "            smoothed_img: smoothed image \n",
    "    \"\"\"\n",
    "    # Write your code here!\n",
    "    \n",
    "    # Create the kernel\n",
    "    height = None # or number of rows\n",
    "    width = None # or number of columns\n",
    "    kernel = np.ones((None, None), np.float32)/(None*None)\n",
    "    \n",
    "    # Convolve image and kernel\n",
    "    smoothed_img = cv2.filter2D(None,None,None)\n",
    "    \n",
    "    if verbose:\n",
    "        # Show the initial image\n",
    "        #plt.subplot(121)\n",
    "        plt.title('Noisy')\n",
    "        plt.imshow(None, None)\n",
    "        plt.show()\n",
    "\n",
    "        # Show the resultant one\n",
    "        #plt.subplot(122)\n",
    "        plt.title('Average filter')\n",
    "        plt.imshow(None, None)\n",
    "    \n",
    "    return smoothed_img"
   ]
  },
  {
   "cell_type": "markdown",
   "metadata": {},
   "source": [
    "You can use the next snippet of code to **test if your results are correct**:"
   ]
  },
  {
   "cell_type": "code",
   "execution_count": null,
   "metadata": {},
   "outputs": [],
   "source": [
    "# Try this code\n",
    "image = np.array([[1,6,2,5],[22,6,22,7],[7,7,13,0],[0,2,8,4]], dtype=np.uint8)\n",
    "w_kernel = 1\n",
    "print(average_filter(image, w_kernel))"
   ]
  },
  {
   "cell_type": "markdown",
   "metadata": {},
   "source": [
    "<font color='blue'>**Expected output:**  </font>\n",
    "\n",
    "    [[ 9 12  9 12]  \n",
    "    [  8 10  8 10]  \n",
    "    [  7 10  8 11]  \n",
    "    [  5  7  6  8]]"
   ]
  },
  {
   "cell_type": "markdown",
   "metadata": {},
   "source": [
    "### <font color=\"blue\"><b><i>Thinking about it (2)</i></b></font>\n",
    "\n",
    "**You are asked to** use the code cell below (the interactive one) and try **average_filter** using both noisy images `noisy_1.jpg` and `noisy_2.jpg`. Then, **answer the following questions**:\n",
    "\n",
    "- Is the noise removed from the first image?\n",
    "\n",
    "    <p style=\"margin: 4px 0px 6px 5px; color:blue\"><i>Your answer here!</i></p>\n",
    "\n",
    "- Is the noise removed from the second image?\n",
    "\n",
    "    <p style=\"margin: 4px 0px 6px 5px; color:blue\"><i>Your answer here!</i></p>\n",
    "\n",
    "- Which value is a good choice for `w_kernel`? Why?\n",
    "\n",
    "    <p style=\"margin: 4px 0px 6px 5px; color:blue\"><i>Your answer here!</i></p>"
   ]
  },
  {
   "cell_type": "code",
   "execution_count": null,
   "metadata": {
    "scrolled": false
   },
   "outputs": [],
   "source": [
    "# Interact with the kernel size\n",
    "noisy_img = cv2.imread(images_path + 'noisy_1.jpg', 0)\n",
    "interactive(average_filter, image=fixed(noisy_img), w_kernel=(0,5,1), verbose=fixed(True))"
   ]
  },
  {
   "cell_type": "markdown",
   "metadata": {},
   "source": [
    "### b) Gaussian filtering \n",
    "\n",
    "An alternative to neighborhood averaging is **Gaussian filtering**. This technique applies the same tool as averaging (a convolution operation) but with a more complex kernel.\n",
    "\n",
    "The idea is to take advantage of the normal distribution for creating a kernel that keeps borders in the image while smoothing. This is done by giving more relevance to the pixels that are closer to the kernel center, creating a **neighborhood weighted averaging**. For example, considering a kernel with an aperture of 2 ($5\\times5$ size), its values would be:\n",
    "\n",
    "<table>\n",
    "\t<tbody>\n",
    "\t\t<tr>\n",
    "\t\t\t<td style=\"border: 1px solid;\">0.003</td>\n",
    "\t\t\t<td style=\"border: 1px solid;\">0.013</td>\n",
    "\t\t\t<td style=\"border: 1px solid;\">0.022</td>\n",
    "            <td style=\"border: 1px solid;\">0.013</td>\n",
    "            <td style=\"border: 1px solid;\">0.003</td>\n",
    "\t\t</tr>\n",
    "        <tr>\n",
    "\t\t\t<td style=\"border: 1px solid;\">0.013</td>\n",
    "\t\t\t<td style=\"border: 1px solid;\">0.059</td>\n",
    "\t\t\t<td style=\"border: 1px solid;\">0.097</td>\n",
    "            <td style=\"border: 1px solid;\">0.059</td>\n",
    "            <td style=\"border: 1px solid;\">0.013</td>\n",
    "\t\t</tr>\n",
    "\t\t<tr>\n",
    "            <td style=\"border: 1px solid;\">0.022</td>\n",
    "\t\t\t<td style=\"border: 1px solid;\">0.097</td>\n",
    "\t\t\t<td style=\"border: 1px solid;\" bgcolor=\"#81F7F3\">0.159</td>\n",
    "\t\t\t<td style=\"border: 1px solid;\">0.097</td>\n",
    "            <td style=\"border: 1px solid;\">0.022</td>\n",
    "\t\t</tr>\n",
    "\t\t<tr>\n",
    "\t\t\t<td style=\"border: 1px solid;\">0.013</td>\n",
    "\t\t\t<td style=\"border: 1px solid;\">0.059</td>\n",
    "\t\t\t<td style=\"border: 1px solid;\">0.097</td>\n",
    "            <td style=\"border: 1px solid;\">0.059</td>\n",
    "            <td style=\"border: 1px solid;\">0.013</td>\n",
    "\t\t</tr>\n",
    "\t\t<tr>\n",
    "\t\t\t<td style=\"border: 1px solid;\">0.003</td>\n",
    "\t\t\t<td style=\"border: 1px solid;\">0.013</td>\n",
    "\t\t\t<td style=\"border: 1px solid;\">0.022</td>\n",
    "            <td style=\"border: 1px solid;\">0.013</td>\n",
    "            <td style=\"border: 1px solid;\">0.003</td>\n",
    "\t\t</tr>        \n",
    "\t</tbody>\n",
    "</table>\n",
    "\n",
    "\n",
    "For defining such a kernel it is used the Gaussian bell:\n",
    "\n",
    "In 1-D:\n",
    "$$g_{\\sigma}(x) = \\frac{1}{\\sigma\\sqrt{2\\pi}}exp\\left(-\\frac{x^2}{2\\sigma^2}\\right)$$\n",
    "\n",
    "In 2-D, we can make use of the *separability property* to separate rows and columns, resulting in convolutions of two 1D kernels:\n",
    "$$g_{\\sigma}(x,y) = \\underbrace{\\frac{1}{2\\pi\\sigma^2}exp\\left(-\\frac{x^2+y^2}{2\\sigma^2}\\right)}_{g}\n",
    "= \\underbrace{\\frac{1}{\\sigma\\sqrt{2\\pi}}exp\\left(-\\frac{x^2}{2\\sigma^2}\\right)}_{g_x}*\n",
    "\\underbrace{\\frac{1}{\\sigma\\sqrt{2\\pi}}exp\\left(-\\frac{y^2}{2\\sigma^2}\\right)}_{g_y}\n",
    "$$\n",
    "\n",
    "For example: \n",
    "\n",
    "<div style=\"margin: 0 auto; text-align: center; display: table;\">\n",
    "\n",
    "<div style = \"padding: 10px; display: table-cell; vertical-align: middle;\">$g=g_y\\otimes g_x\\rightarrow$ </div>\n",
    "    \n",
    "<table style = \"display: table-cell; vertical-align: middle;\">\n",
    "\t<tbody>\n",
    "\t\t<tr>\n",
    "\t\t\t<td style=\"border: 1px solid;\">1</td>\n",
    "\t\t\t<td style=\"border: 1px solid;\">2</td>\n",
    "\t\t\t<td style=\"border: 1px solid;\">1</td>\n",
    "\t\t</tr>\n",
    "\t\t<tr>\n",
    "\t\t\t<td style=\"border: 1px solid;\">2</td>\n",
    "\t\t\t<td style=\"border: 1px solid;\" bgcolor=\"#81F7F3\">4</td>\n",
    "\t\t\t<td style=\"border: 1px solid;\">2</td>\n",
    "\t\t</tr>\n",
    "\t\t<tr>\n",
    "\t\t\t<td style=\"border: 1px solid;\">1</td>\n",
    "\t\t\t<td style=\"border: 1px solid;\">2</td>\n",
    "\t\t\t<td style=\"border: 1px solid;\">1</td>\n",
    "\t\t</tr>\n",
    "\t</tbody>\n",
    "</table> \n",
    "    \n",
    "<div style = \"padding: 10px; display: table-cell; vertical-align: middle;\"> $=$ </div>\n",
    "    \n",
    "<table style = \"display: table-cell; vertical-align: middle;\">\n",
    "\t<tbody>\n",
    "\t\t<tr>\n",
    "\t\t\t<td style=\"border: 1px solid;\">1</td>\n",
    "\t\t</tr>\n",
    "\t\t<tr>\n",
    "\t\t\t<td style=\"border: 1px solid;\" bgcolor=\"#81F7F3\">2</td>\n",
    "\t\t</tr>\n",
    "\t\t<tr>\n",
    "\t\t\t<td style=\"border: 1px solid;\">1</td>\n",
    "\t\t</tr>\n",
    "\t</tbody>\n",
    "</table>\n",
    "    \n",
    "<div style = \"padding: 10px; display: table-cell; vertical-align: middle;\"> $\\otimes$ </div>\n",
    "    \n",
    "<table style = \"display: table-cell; vertical-align: middle;\">\n",
    "\t<tbody>\n",
    "\t\t<tr>\n",
    "\t\t\t<td style=\"border: 1px solid;\">1</td>\n",
    "\t\t\t<td style=\"border: 1px solid;\" bgcolor=\"#81F7F3\">2</td>\n",
    "\t\t\t<td style=\"border: 1px solid;\">1</td>\n",
    "\t\t</tr>\n",
    "\t</tbody>\n",
    "</table>\n",
    "</div>\n",
    "\n",
    "And because of the *associative property*:\n",
    "\n",
    "$$\\underbrace{f \\otimes g}_{\\text{2D convolution}} =\n",
    "f \\otimes (g_x \\otimes g_y) = \\underbrace{(f \\otimes g_x) \\otimes g_y}_{\\text{Two 1D convolutions}}$$\n",
    "\n",
    "In this way, we do $2n$ operations instead of $n^2$, being $n$ the kernel size. This is relevant in kernels with a big size!\n",
    "\n",
    "The degree of smoothing of this filter can be controlled by the $\\sigma$ parameter, that is, the **standard deviation** of the Gaussian distribution used to build the kernel. The bigger the $\\sigma$, the more smoothing, but it could result in a blurrier image!\n",
    "\n",
    "The $\\sigma$ parameter also influences the **kernel aperture** value to use, since it must be proportional. It has to be big enough to account for non-negligible values in the kernel! For example, in the kernel below, it doesn't make sense to increase its aperture (currently $1$) since new rows/columns would have very small values:\n",
    "\n",
    "<table>\n",
    "\t<tbody>\n",
    "\t\t<tr>\n",
    "\t\t\t<td style=\"border: 1px solid;\">1</td>\n",
    "\t\t\t<td style=\"border: 1px solid;\">15</td>\n",
    "\t\t\t<td style=\"border: 1px solid;\">1</td>\n",
    "\t\t</tr>\n",
    "\t\t<tr>\n",
    "\t\t\t<td style=\"border: 1px solid;\">15</td>\n",
    "\t\t\t<td style=\"border: 1px solid;\" bgcolor=\"#81F7F3\">100</td>\n",
    "\t\t\t<td style=\"border: 1px solid;\">15</td>\n",
    "\t\t</tr>\n",
    "\t\t<tr>\n",
    "\t\t\t<td style=\"border: 1px solid;\">1</td>\n",
    "\t\t\t<td style=\"border: 1px solid;\">15</td>\n",
    "\t\t\t<td style=\"border: 1px solid;\">1</td>\n",
    "\t\t</tr>\n",
    "\t</tbody>\n",
    "</table> "
   ]
  },
  {
   "cell_type": "markdown",
   "metadata": {},
   "source": [
    "### **<span style=\"color:green\"><b><i>ASSIGNMENT 3: Implementing the famous gaussian filter</i></b></span>**\n",
    "\n",
    "Complete the `gaussian_filter()` method in a similar way to the previous one, but including a new input: `sigma`, representing the standard deviation of the Gaussian distribution used for building the kernel. \n",
    "\n",
    "As an illustrative example of separability, we will obtain the kernel by performing the convolution of a 1D `vertical_kernel` with a 1D `horizontal_kernel`, resulting in the 2D gaussian `kernel`!\n",
    "\n",
    "*Tip: Note that NumPy defines mathematical functions that operate over arrays like [exponential](https://docs.scipy.org/doc/numpy/reference/generated/numpy.exp.html) or [square-root](https://docs.scipy.org/doc/numpy/reference/generated/numpy.sqrt.html), as well as mathematical [constants](https://docs.scipy.org/doc/numpy/reference/constants.html) like `np.pi`. Remember the associative property of convolution*.\n",
    "\n",
    "*Tip 2: The code below uses **List Comprehension** for creating a list of numbers by evaluating an expression within a `for` loop. Its syntax is: `[expression for item in list]`. You can find multiple examples of how to create lists using this technique on the [internet](http://www.google.com/search?q=python+list+comprehension).*"
   ]
  },
  {
   "cell_type": "code",
   "execution_count": null,
   "metadata": {},
   "outputs": [],
   "source": [
    "# ASSIGNMENT 3\n",
    "# Implement a function that:\n",
    "# -- creates a 2D Gaussian filter (tip: it can be done by implementing a 1D Gaussian filter and doing the outer product of the 1D kernel with itself)\n",
    "# -- convolves the input image with the kernel\n",
    "# -- displays the input image and the filtered one in a 1x2 plot (if verbose=True)\n",
    "# -- returns the smoothed image\n",
    "def gaussian_filter(image, w_kernel, sigma, verbose=False):\n",
    "    \"\"\" Applies Gaussian filter to an image and display it.   \n",
    "\n",
    "        Args:\n",
    "            image: Input image\n",
    "            w_kernel: Kernel aperture size\n",
    "            sigma: standard deviation of Gaussian distribution\n",
    "            verbose: Only show images if this is True\n",
    "        \n",
    "        Returns:\n",
    "            smoothed_img: smoothed image \n",
    "    \"\"\"\n",
    "    # Write your code here!\n",
    "    \n",
    "    # Create kernel using associative property\n",
    "    s = sigma\n",
    "    w = w_kernel\n",
    "    kernel_1D = np.float32([None for z in range(-w,w+1)]) # Evaluate the gaussian in \"expression\"\n",
    "    vertical_kernel = kernel_1D.reshape(2*w+1,1) # Reshape it as a matrix with just one column\n",
    "    horizontal_kernel = kernel_1D.reshape(1,2*w+1) # Reshape it as a matrix with just one row\n",
    "    kernel = signal.convolve2d(None, None) # Get the 2D kernel\n",
    "\n",
    "    # Convolve image and kernel\n",
    "    smoothed_img = cv2.filter2D(None,None,None)\n",
    "    \n",
    "    if verbose:\n",
    "        # Show the initial image\n",
    "        #plt.subplot(121)\n",
    "        plt.imshow(None, None)\n",
    "        plt.title('Noisy')\n",
    "        plt.show()\n",
    "            \n",
    "        # Show the resultant one\n",
    "        #plt.subplot(122)\n",
    "        plt.imshow(None, None)\n",
    "        plt.title('Gaussian filter')\n",
    "    \n",
    "    return smoothed_img"
   ]
  },
  {
   "cell_type": "markdown",
   "metadata": {},
   "source": [
    "Again, you can use next code to **test if your results are correct**:"
   ]
  },
  {
   "cell_type": "code",
   "execution_count": null,
   "metadata": {},
   "outputs": [],
   "source": [
    "image = np.array([[1,6,2,5],[10,6,22,7],[7,7,13,0],[0,2,8,4]], dtype=np.uint8)\n",
    "w_kernel = 1\n",
    "sigma = 1\n",
    "print(gaussian_filter(image, w_kernel,sigma))"
   ]
  },
  {
   "cell_type": "markdown",
   "metadata": {},
   "source": [
    "### <font color='blue'>**Expected output:**  </font>\n",
    "\n",
    "    [[5 6 7 8]\n",
    "     [5 7 7 8]\n",
    "     [4 6 7 7]\n",
    "     [3 5 5 5]]"
   ]
  },
  {
   "cell_type": "markdown",
   "metadata": {},
   "source": [
    "### <font color=\"blue\"><b><i>Thinking about it (3)</i></b></font>\n",
    "\n",
    "**You are asked to** try **gaussian_filter** using both noisy images `noisy_1.jpg` and `noisy_2.jpg` (see the cell below). Then, **answer following questions**:\n",
    "\n",
    "- Is the noise removed from the first image?\n",
    "\n",
    "    <p style=\"margin: 4px 0px 6px 5px; color:blue\"><i>Your answer here!</i></p>\n",
    "\n",
    "- Is the noise removed from the second image?\n",
    "\n",
    "    <p style=\"margin: 4px 0px 6px 5px; color:blue\"><i>Your answer here!</i></p>\n",
    "\n",
    "- Which value is a good choice for `w_kernel` and `sigma`? Why?\n",
    "\n",
    "    <p style=\"margin: 4px 0px 6px 5px; color:blue\"><i>Your answer here!</i></p>"
   ]
  },
  {
   "cell_type": "code",
   "execution_count": null,
   "metadata": {
    "scrolled": false
   },
   "outputs": [],
   "source": [
    "# Interact with the kernel size and the sigma value\n",
    "noisy_img = cv2.imread(images_path + 'noisy_1.jpg', 0)\n",
    "interactive(gaussian_filter, image=fixed(noisy_img), w_kernel=(0,5,1), sigma=(1,3,0.3), verbose=fixed(True))"
   ]
  },
  {
   "cell_type": "markdown",
   "metadata": {},
   "source": [
    "## 2.2.2 Median filter\n",
    "\n",
    "There are other smoothing techniques besides those relying on convolution. One of them is **median filtering**, which operates by replacing each pixel in the image with the median of its neighborhood. For example, considering a $3\\times3$ neighborhood: \n",
    "\n",
    "<img src=\"./images/median.png\" width=\"500\">\n",
    "\n",
    "Median filtering is quite good preserving borders (it doesn't produce image blurring), and is very effective to remove salt&pepper noise. \n",
    "\n",
    "An **important drawback** of this technique is that it is not a linear operation, so it exhibits a high computational cost. Nevertheless there are efficient implementations like pseudomedian, sliding median, etc. "
   ]
  },
  {
   "cell_type": "markdown",
   "metadata": {},
   "source": [
    "### **<span style=\"color:green\"><b><i>ASSIGNMENT 4: Playing with the median filter</i></b></span>**\n",
    "\n",
    "Let's see if this filter could be useful for our plate number recognition system. For that, complete the `median_filter()` method in a similar way to the previous techniques. This method takes as inputs:\n",
    "- the initial image, and \n",
    "- the window aperture size (`w_window`), that is, the size of the neighborhood.\n",
    "\n",
    "*Tip: take a look at [`cv2.medianBlur()`](https://docs.opencv.org/master/d4/d86/group__imgproc__filter.html#ga564869aa33e58769b4469101aac458f9)*"
   ]
  },
  {
   "cell_type": "code",
   "execution_count": null,
   "metadata": {},
   "outputs": [],
   "source": [
    "# ASSIGNMENT 4\n",
    "# Implement a function that:\n",
    "# -- applies a median filter to the input image\n",
    "# -- displays the input image and the filtered one in a 1x2 plot if verbose = True\n",
    "# -- returns the smoothed image\n",
    "def median_filter(image, w_window, verbose=False):\n",
    "    \"\"\" Applies median filter to an image and display it.   \n",
    "\n",
    "        Args:\n",
    "            image: Input image\n",
    "            w_window: window aperture size\n",
    "            verbose: Only show images if this is True\n",
    "        \n",
    "        Returns:\n",
    "            smoothed_img: smoothed image \n",
    "    \"\"\"\n",
    "    \n",
    "    #Apply median filter\n",
    "    smoothed_img = None\n",
    "    \n",
    "    if verbose:\n",
    "        # Show the initial image\n",
    "        #plt.subplot(121)\n",
    "        plt.imshow(None, None)\n",
    "        plt.title('Noisy')\n",
    "        plt.show()\n",
    "\n",
    "        # Show the resultant one\n",
    "        #plt.subplot(122)\n",
    "        plt.imshow(None, None)\n",
    "        plt.title('Median filter')\n",
    "    \n",
    "    return smoothed_img"
   ]
  },
  {
   "cell_type": "markdown",
   "metadata": {},
   "source": [
    "You can use the next code to **test if your results are correct**:"
   ]
  },
  {
   "cell_type": "code",
   "execution_count": null,
   "metadata": {},
   "outputs": [],
   "source": [
    "image = np.array([[1,6,2,5],[10,6,22,7],[7,7,13,0],[0,2,8,4]], dtype=np.uint8)\n",
    "w_window = 2\n",
    "print(median_filter(image, w_window))"
   ]
  },
  {
   "cell_type": "markdown",
   "metadata": {},
   "source": [
    "<font color='blue'>**Expected output:**  </font>\n",
    "\n",
    "    [[6 5 5 5]\n",
    "     [6 5 5 5]\n",
    "     [6 5 5 5]\n",
    "     [6 4 4 4]]"
   ]
  },
  {
   "cell_type": "markdown",
   "metadata": {},
   "source": [
    "Now play a bit with the parameters of the algorithm!"
   ]
  },
  {
   "cell_type": "code",
   "execution_count": null,
   "metadata": {
    "scrolled": false
   },
   "outputs": [],
   "source": [
    "# Interact with the window size\n",
    "noisy_img = cv2.imread(images_path + 'noisy_1.jpg', 0)\n",
    "interactive(median_filter, image=fixed(noisy_img), w_window=(1,5,1), verbose=fixed(True))"
   ]
  },
  {
   "cell_type": "markdown",
   "metadata": {},
   "source": [
    "### <font color=\"blue\"><b><i>Thinking about it (4)</i></b></font>\n",
    "\n",
    "**You are asked to** try **median_filter** using both noisy images `noisy_1.jpg` and `noisy_2.jpg`. Then, **answer following questions**:\n",
    "\n",
    "- Is the noise removed from the first image?\n",
    "\n",
    "    <p style=\"margin: 4px 0px 6px 5px; color:blue\"><i>Your answer here!</i></p>\n",
    "\n",
    "- Is the noise removed from the second image?\n",
    "\n",
    "    <p style=\"margin: 4px 0px 6px 5px; color:blue\"><i>Your answer here!</i></p>\n",
    "\n",
    "- Which value is a good choice for `w_window`? Why?\n",
    "\n",
    "    <p style=\"margin: 4px 0px 6px 5px; color:blue\"><i>Your answer here!</i></p>"
   ]
  },
  {
   "cell_type": "markdown",
   "metadata": {},
   "source": [
    "## 2.2.3 Image average\n",
    "\n",
    "Next, we asked UMA for the possibility to change their camera from a single shot mode to a multi-shot sequence of images. This is a continuous shooting mode also called *burst mode*. They were very kind and provided us with the sequences `burst1_(0:9).jpg` and `burst2_(0:9).jpg` for testing.\n",
    "\n",
    "Image sequences allow the usage of **image averaging** for noise removal, the last technique we are going to try. In this technique the content of each pixel in the final image is the result of averaging the value of that pixel in the whole sequence. Remark that, in the context of our application, this technique will work only if the car is fully stopped!  \n",
    "\n",
    "The idea behind image averaging is that using a high number of noisy images from a still camera in a static scene, the resultant image would be noise-free. This is supposed because some types of noise usually has zero mean. Mathematically:\n",
    "\n",
    "<img src=\"./images/average_1.png\" width=\"700\">\n",
    "\n",
    "$$\n",
    "g(x,y) = \n",
    "\\frac{1}{M} \\sum_{i=1}^M f_i(x,y) = \n",
    "\\frac{1}{M} \\sum_{i=1}^M [f_{\\text{noise_free}}(x,y)+n_i(x,y)] = \\\\\n",
    "= f_{\\text{noise_free}}(x,y) + \\frac{1}{M} \\sum_{i=1}^M n_i(x,y)\n",
    "$$\n",
    "\n",
    "This method:\n",
    "- is very effective with gaussian noise, and \n",
    "- it also preserves edges. \n",
    "\n",
    "On the contrary: \n",
    "- it doesn't work well with salt&pepper noise, and\n",
    "- it is only applicable for sequences of images from a still scene. "
   ]
  },
  {
   "cell_type": "markdown",
   "metadata": {},
   "source": [
    "### **<span style=\"color:green\"><b><i>ASSIGNMENT 5: And last but not least, image averaging</i></b></span>**\n",
    "\n",
    "We want to analyze the suitability of this method for our application, so you have to complete the `image_averaging()` method. It takes:\n",
    "- a sequence of images structured as an array with dimensions [sequence length $\\times$ height $\\times$ width], and \n",
    "- the number of images that are going to be used.\n",
    "\n",
    "*Tip: Get inspiration from here: [average of an array along a specified axis](https://docs.scipy.org/doc/numpy-1.9.2/reference/generated/numpy.average.html)*"
   ]
  },
  {
   "cell_type": "code",
   "execution_count": null,
   "metadata": {},
   "outputs": [],
   "source": [
    "# ASSIGNMENT 5\n",
    "# Implement a function that:\n",
    "# -- takes a number of images of the sequence (burst_length)\n",
    "# -- averages the vale of each pixel in the selected part of the sequence\n",
    "# -- displays the first image in the sequence and the final, filtered one in a 1x2 plot if verbose = True\n",
    "# -- returns the average image\n",
    "def image_averaging(burst, burst_length, verbose=False):\n",
    "    \"\"\" Applies image averaging to a sequence of images and display it.   \n",
    "\n",
    "        Args:\n",
    "            burst: 3D array containing the fully image sequence.\n",
    "            burst_length: Natural number indicating how many images are \n",
    "                          going to be used. \n",
    "            verbose: Only show images if this is True\n",
    "                \n",
    "        Returns:\n",
    "            average_img: smoothed image \n",
    "    \"\"\"\n",
    "    \n",
    "    #Take only `burst_length` images\n",
    "    burst = None\n",
    "    \n",
    "    # Apply image averaging\n",
    "    average_img = None\n",
    "    \n",
    "    # Change data type to 8-bit unsigned, as expected by plt.imshow()\n",
    "    average_img = average_img.astype(np.uint8)\n",
    "    \n",
    "    if verbose:\n",
    "        # Show the initial image\n",
    "        #plt.subplot(121)\n",
    "        plt.imshow(None, None')\n",
    "        plt.title('Noisy')\n",
    "        plt.show()\n",
    "\n",
    "        # Show the resultant one\n",
    "        #plt.subplot(122)\n",
    "        plt.imshow(None, None)\n",
    "        plt.title('Image averaging')\n",
    "    \n",
    "    return average_img"
   ]
  },
  {
   "cell_type": "markdown",
   "metadata": {},
   "source": [
    "You can use the next code to **test if your results are correct**:"
   ]
  },
  {
   "cell_type": "code",
   "execution_count": null,
   "metadata": {},
   "outputs": [],
   "source": [
    "burst = np.array([[[1,6,2,5],[10,6,22,7],[7,7,13,0],[0,2,8,4]],\n",
    "                  [[7,7,13,0],[0,2,8,4],[1,6,2,5],[10,6,22,7]],\n",
    "                  [[7,7,13,0],[0,2,8,4],[1,6,2,5],[10,6,22,7]]],dtype=np.uint8)\n",
    "\n",
    "print(image_averaging(burst, 2))"
   ]
  },
  {
   "cell_type": "markdown",
   "metadata": {},
   "source": [
    "<font color='blue'>**Expected output:**  </font>\n",
    "\n",
    "    [[ 4  6  7  2]\n",
    "     [ 5  4 15  5]\n",
    "     [ 4  6  7  2]\n",
    "     [ 5  4 15  5]]"
   ]
  },
  {
   "cell_type": "markdown",
   "metadata": {},
   "source": [
    "Now check how the number of images used affect the noise removal (play with both sequences):"
   ]
  },
  {
   "cell_type": "code",
   "execution_count": null,
   "metadata": {
    "scrolled": false
   },
   "outputs": [],
   "source": [
    "# Interact with the burst length\n",
    "# Read image secuence\n",
    "burst = []\n",
    "for i in range(10):\n",
    "    burst.append(cv2.imread('./images/burst2_' + str(i) + '.jpg', 0))\n",
    "    \n",
    "# Cast to array\n",
    "burst = np.asarray(burst)\n",
    "\n",
    "interactive(image_averaging, burst=fixed(burst), burst_length=(1, 10, 1), verbose=fixed(True))"
   ]
  },
  {
   "cell_type": "markdown",
   "metadata": {},
   "source": [
    "### <font color=\"blue\"><b><i>Thinking about it (5)</i></b></font>\n",
    "\n",
    "**You are asked to** try **image_averaging** with `burst1_XX.jpg` and `burst2_XX.jpg` sequences. Then, **answer these questions**:\n",
    "\n",
    "- Is the noise removed in both sequences?\n",
    "\n",
    "    <p style=\"margin: 4px 0px 6px 5px; color:blue\"><i>Your answer here!</i></p>\n",
    "\n",
    "- What number of photos should the camera take in each image sequence?\n",
    "\n",
    "    <p style=\"margin: 4px 0px 6px 5px; color:blue\"><i>Your answer here!</i></p>"
   ]
  },
  {
   "cell_type": "markdown",
   "metadata": {},
   "source": [
    "## 2.2.4 Choosing a smoothing technique\n",
    "\n",
    "The next code cell runs the explored smoothing techniques and shows the results provided by each one while processing two different car license plates, **with two different types of noise. Check them!**"
   ]
  },
  {
   "cell_type": "code",
   "execution_count": null,
   "metadata": {},
   "outputs": [],
   "source": [
    "#Read first noisy image\n",
    "im1 = cv2.imread('./images/burst1_0.jpg', 0)\n",
    "im1 = im1[290:340,280:460]\n",
    "\n",
    "# Read second noisy image\n",
    "im2 = cv2.imread('./images/burst2_0.jpg', 0)\n",
    "im2 = im2[290:340,280:460]\n",
    "\n",
    "# Apply neighborhood averaging\n",
    "neighbor1 = average_filter(im1, 1)\n",
    "neighbor2 = average_filter(im2, 1)\n",
    "\n",
    "# Apply Gaussian filter\n",
    "gaussian1 = gaussian_filter(im1, 2,1)\n",
    "gaussian2 = gaussian_filter(im2, 2,1)\n",
    "\n",
    "# Apply median filter\n",
    "median1 = median_filter(im1, 1)\n",
    "median2 = median_filter(im2, 1)\n",
    "\n",
    "# Apply image averaging\n",
    "burst1 = []\n",
    "burst2 = []\n",
    "for i in range(10):\n",
    "    burst1.append(cv2.imread('./images/burst1_' + str(i) + '.jpg', 0))\n",
    "    burst2.append(cv2.imread('./images/burst2_' + str(i) + '.jpg', 0))\n",
    "    \n",
    "burst1 = np.asarray(burst1)\n",
    "burst2 = np.asarray(burst2)\n",
    "\n",
    "burst1 = burst1[:,290:340,280:460]\n",
    "burst2 = burst2[:,290:340,280:460]\n",
    "\n",
    "average1 = image_averaging(burst1, 10)\n",
    "average2 = image_averaging(burst2, 10)\n",
    "\n",
    "# Plot results\n",
    "plt.subplot(521)\n",
    "plt.imshow(im1, cmap='gray')\n",
    "plt.title('Noisy 1')\n",
    "\n",
    "plt.subplot(522)\n",
    "plt.imshow(im2, cmap='gray')\n",
    "plt.title('Noisy 2')\n",
    "\n",
    "plt.subplot(523)\n",
    "plt.imshow(neighbor1, cmap='gray')\n",
    "plt.title('Neighborhood averaging')\n",
    "\n",
    "plt.subplot(524)\n",
    "plt.imshow(neighbor2, cmap='gray')\n",
    "plt.title('Neighborhood averaging')\n",
    "\n",
    "plt.subplot(525)\n",
    "plt.imshow(gaussian1, cmap='gray')\n",
    "plt.title('Gaussian filter')\n",
    "\n",
    "plt.subplot(526)\n",
    "plt.imshow(gaussian2, cmap='gray')\n",
    "plt.title('Gaussian filter')\n",
    "\n",
    "plt.subplot(527)\n",
    "plt.imshow(median1, cmap='gray')\n",
    "plt.title('Median filter')\n",
    "\n",
    "plt.subplot(528)\n",
    "plt.imshow(median2, cmap='gray')\n",
    "plt.title('Median filter')\n",
    "\n",
    "plt.subplot(529)\n",
    "plt.imshow(average1, cmap='gray')\n",
    "plt.title('Image averaging')\n",
    "\n",
    "plt.subplot(5,2,10)\n",
    "plt.imshow(average2, cmap='gray')\n",
    "plt.title('Image averaging')"
   ]
  },
  {
   "cell_type": "markdown",
   "metadata": {},
   "source": [
    "### <font color=\"blue\"><b><i>Thinking about it (6)</i></b></font>\n",
    "\n",
    "And the final question is:\n",
    "\n",
    "- **What method would you choose** for a final implementation in the system? *Why?*\n",
    "\n",
    "    <p style=\"margin: 4px 0px 6px 5px; color:blue\"><i>Your answer here!</i></p>"
   ]
  },
  {
   "cell_type": "markdown",
   "metadata": {},
   "source": [
    "## Conclusion\n",
    "\n",
    "That was a complete and awesome job! Congratulations, you learned:\n",
    "\n",
    "- how to reduce noise in images, for both salt & pepper and Gaussian noise,\n",
    "- which methods are useful for each type of noise and which not, and\n",
    "- to apply convolution and efficient implementations of some kernels.\n",
    "\n",
    "If you want to improve your knowledge about noise in digital images, you can surf the internet for *speckle noise* and *Poisson noise*. "
   ]
  }
 ],
 "metadata": {
  "kernelspec": {
   "display_name": "Python 3",
   "language": "python",
   "name": "python3"
  },
  "language_info": {
   "codemirror_mode": {
    "name": "ipython",
    "version": 3
   },
   "file_extension": ".py",
   "mimetype": "text/x-python",
   "name": "python",
   "nbconvert_exporter": "python",
   "pygments_lexer": "ipython3",
   "version": "3.6.10"
  },
  "varInspector": {
   "cols": {
    "lenName": 16,
    "lenType": 16,
    "lenVar": 40
   },
   "kernels_config": {
    "python": {
     "delete_cmd_postfix": "",
     "delete_cmd_prefix": "del ",
     "library": "var_list.py",
     "varRefreshCmd": "print(var_dic_list())"
    },
    "r": {
     "delete_cmd_postfix": ") ",
     "delete_cmd_prefix": "rm(",
     "library": "var_list.r",
     "varRefreshCmd": "cat(var_dic_list()) "
    }
   },
   "position": {
    "height": "429.85px",
    "left": "853.583px",
    "right": "20px",
    "top": "173px",
    "width": "578.333px"
   },
   "types_to_exclude": [
    "module",
    "function",
    "builtin_function_or_method",
    "instance",
    "_Feature"
   ],
   "window_display": false
  }
 },
 "nbformat": 4,
 "nbformat_minor": 4
}
