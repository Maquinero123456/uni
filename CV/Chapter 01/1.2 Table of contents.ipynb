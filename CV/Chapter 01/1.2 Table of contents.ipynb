{
 "cells": [
  {
   "cell_type": "markdown",
   "metadata": {},
   "source": [
    "# 1.2 Table of contents\n"
   ]
  },
  {
   "cell_type": "markdown",
   "metadata": {},
   "source": [
    "## Chapter 01. Welcome!\n",
    "\n",
    "- [1.1 Introduction to this book](../Chapter%2001.%20Welcome!/1.1%20Introduction%20to%20this%20book.ipynb)\n",
    "- [1.2 Table of contents]()"
   ]
  },
  {
   "cell_type": "markdown",
   "metadata": {},
   "source": [
    "## Chapter 02. Image processing\n",
    "\n",
    "- [2.1 IP tools](../Chapter%2002.%20Image%20processing/2.1%20IP%20tools.ipynb)\n",
    "- [2.2 Smoothing](../Chapter%2002.%20Image%20processing/2.2%20Smoothing.ipynb)\n",
    "- [2.3 Image enhancement](../Chapter%2002.%20Image%20processing/2.3%20Image%20enhancement.ipynb)"
   ]
  },
  {
   "cell_type": "markdown",
   "metadata": {},
   "source": [
    "## Chapter 03. Edge detection\n",
    "\n",
    "- [3.1 Operators based on first derivative](../Chapter%2003.%20Edge%20detection/3.1%20Operators%20based%20on%20first%20derivative.ipynb)\n",
    "- [3.2 Operators based on second derivative & Canny algorithm](../Chapter%2003.%20Edge%20detection/3.2%20Operators%20based%20on%20second%20derivative%20%26%20Canny%20algorithm.ipynb)"
   ]
  },
  {
   "cell_type": "markdown",
   "metadata": {},
   "source": [
    "## Chapter 04. Keypoint detection\n",
    "\n",
    "- [4.1 Corner detection and description. Harris and NCC](../Chapter%2004.%20Keypoint%20detection/4.1%20Corner%20detection%20and%20description.%20Harris%20and%20NCC.ipynb)\n",
    "- [4.2 Corner detection and description. FAST and ORB](../Chapter%2004.%20Keypoint%20detection/4.2%20Corner%20detection%20and%20description.%20FAST%20and%20ORB.ipynb)\n",
    "- [4.3 Blob detection and description](../Chapter%2004.%20Keypoint%20detection/4.3%20Blob%20detection%20and%20description.ipynb)\n",
    "- [4.4 Benchmarking](../Chapter%2004.%20Keypoint%20detection/4.4%20Benchmarking.ipynb)"
   ]
  },
  {
   "cell_type": "markdown",
   "metadata": {},
   "source": [
    "## Chapter 05. Image segmentation\n",
    "\n",
    "- [5.1 Region-based techniques](../Chapter%2005.%20Image%20segmentation/5.1%20Region-based%20techniques.ipynb)\n",
    "- [5.2 Contour-based techniques](../Chapter%2005.%20Image%20segmentation/5.2%20Contour-based%20techniques.ipynb)"
   ]
  },
  {
   "cell_type": "markdown",
   "metadata": {},
   "source": [
    "## Chapter 06. Region description\n",
    "\n",
    "- [6.1 Shape descriptors](../Chapter%2006.%20Region%20Description/6.1%20Shape%20descriptors.ipynb)\n",
    "- [6.2 Region-content description](../Chapter%2006.%20Region%20Description/6.2%20Region-content%20description.ipynb)"
   ]
  },
  {
   "cell_type": "markdown",
   "metadata": {},
   "source": [
    "## Chapter 07. Object recognition\n",
    "\n",
    "- [7.1 Discriminant functions](../Chapter%2007.%20Object%20Recognition/7.1%20Discriminant%20functions.ipynb)\n",
    "- [7.2 Bayesian Classifier based on Normal Distribution](../Chapter%2007.%20Object%20Recognition/7.2%20Bayesian%20Classifier%20based%20on%20normal%20distribution.ipynb)\n",
    "- [7.3 Binomial distribution Naive Bayes Classifier](../Chapter%2007.%20Object%20Recognition/7.3%20Binomial%20distribution%20Naive%20Bayes%20Classifier.ipynb)"
   ]
  },
  {
   "cell_type": "markdown",
   "metadata": {},
   "source": [
    "## Chapter 08. Image formation\n",
    "\n",
    "- [8.1 Mathematical tools](../Chapter%2008.%20Image%20Formation/8.1%20Mathematical%20tools.ipynb)\n",
    "- [8.2 2D homographies](../Chapter%2008.%20Image%20Formation/8.2%202D%20homographies.ipynb)\n",
    "- [8.3 The Pinhole model](../Chapter%2008.%20Image%20Formation/8.3%20The%20Pinhole%20model.ipynb)"
   ]
  },
  {
   "cell_type": "markdown",
   "metadata": {},
   "source": [
    "## Chapter 09. Camera calibration\n",
    "\n",
    "- [9.1 Camera calibration](../Chapter%2009.%20Camera%20calibration/9.1%20Camera%20calibration.ipynb)"
   ]
  },
  {
   "cell_type": "markdown",
   "metadata": {},
   "source": [
    "## Chapter 10. Stereo Vision\n",
    "\n",
    "- [10.1 Introduction to stereo vision](../Chapter%2010.%20Stereo%20Vision/10.1%20Introduction%20to%20stereo%20vision.ipynb)\n",
    "- [10.2 Epipolar geometry](../Chapter%2010.%20Stereo%20Vision/10.2%20Epipolar%20geometry.ipynb)"
   ]
  },
  {
   "cell_type": "markdown",
   "metadata": {},
   "source": [
    "## Chapter 11. Real world applications\n",
    "\n",
    "- [11.1 Image stitching](../Chapter%2011.%20Real%20world%20applications/11.1%20Image%20stitching.ipynb)\n",
    "- [11.2 License plate location](../Chapter%2011.%20Real%20world%20applications/11.2%20License%20plate%20location.ipynb)"
   ]
  },
  {
   "cell_type": "markdown",
   "metadata": {},
   "source": [
    "## Chapter 12. Appendices\n",
    "\n",
    "- [12.1 Introduction to Jupyter and Python](../Chapter%2012.%20Appendices/12.1%20Introduction%20to%20Jupyter%20and%20Python.ipynb)\n",
    "- [12.2 Color spaces](../Chapter%2012.%20Appendices/12.2%20Color%20spaces.ipynb)"
   ]
  }
 ],
 "metadata": {
  "kernelspec": {
   "display_name": "Python 3",
   "language": "python",
   "name": "python3"
  },
  "language_info": {
   "codemirror_mode": {
    "name": "ipython",
    "version": 3
   },
   "file_extension": ".py",
   "mimetype": "text/x-python",
   "name": "python",
   "nbconvert_exporter": "python",
   "pygments_lexer": "ipython3",
   "version": "3.6.10"
  }
 },
 "nbformat": 4,
 "nbformat_minor": 4
}
